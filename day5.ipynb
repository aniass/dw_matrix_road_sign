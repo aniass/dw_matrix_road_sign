{
  "nbformat": 4,
  "nbformat_minor": 0,
  "metadata": {
    "colab": {
      "name": "day5.ipynb",
      "provenance": [],
      "collapsed_sections": [],
      "mount_file_id": "1LS9x8z2CV2a3U9bPM9t46uWmom699cSh",
      "authorship_tag": "ABX9TyOyucRPjPgTimKNzn0vGRZ6",
      "include_colab_link": true
    },
    "kernelspec": {
      "name": "python3",
      "display_name": "Python 3"
    },
    "accelerator": "GPU"
  },
  "cells": [
    {
      "cell_type": "markdown",
      "metadata": {
        "id": "view-in-github",
        "colab_type": "text"
      },
      "source": [
        "<a href=\"https://colab.research.google.com/github/aniass/dw_matrix_road_sign/blob/master/day5.ipynb\" target=\"_parent\"><img src=\"https://colab.research.google.com/assets/colab-badge.svg\" alt=\"Open In Colab\"/></a>"
      ]
    },
    {
      "cell_type": "code",
      "metadata": {
        "id": "dAmxJpQabnkL",
        "colab_type": "code",
        "colab": {
          "base_uri": "https://localhost:8080/",
          "height": 182
        },
        "outputId": "68f07713-e7f8-45a7-bd77-da628eb2a9c3"
      },
      "source": [
        "!pip install hyperopt"
      ],
      "execution_count": 1,
      "outputs": [
        {
          "output_type": "stream",
          "text": [
            "Requirement already satisfied: hyperopt in /usr/local/lib/python3.6/dist-packages (0.1.2)\n",
            "Requirement already satisfied: numpy in /usr/local/lib/python3.6/dist-packages (from hyperopt) (1.18.2)\n",
            "Requirement already satisfied: networkx in /usr/local/lib/python3.6/dist-packages (from hyperopt) (2.4)\n",
            "Requirement already satisfied: tqdm in /usr/local/lib/python3.6/dist-packages (from hyperopt) (4.38.0)\n",
            "Requirement already satisfied: scipy in /usr/local/lib/python3.6/dist-packages (from hyperopt) (1.4.1)\n",
            "Requirement already satisfied: six in /usr/local/lib/python3.6/dist-packages (from hyperopt) (1.12.0)\n",
            "Requirement already satisfied: pymongo in /usr/local/lib/python3.6/dist-packages (from hyperopt) (3.10.1)\n",
            "Requirement already satisfied: future in /usr/local/lib/python3.6/dist-packages (from hyperopt) (0.16.0)\n",
            "Requirement already satisfied: decorator>=4.3.0 in /usr/local/lib/python3.6/dist-packages (from networkx->hyperopt) (4.4.2)\n"
          ],
          "name": "stdout"
        }
      ]
    },
    {
      "cell_type": "code",
      "metadata": {
        "id": "qTIRtprmYWqc",
        "colab_type": "code",
        "outputId": "a50e3f08-fbf5-4777-a443-ef506cfaedaa",
        "colab": {
          "base_uri": "https://localhost:8080/",
          "height": 54
        }
      },
      "source": [
        "import pandas as pd\n",
        "import numpy as np\n",
        "import os\n",
        "import datetime\n",
        "\n",
        "import tensorflow as tf\n",
        "from tensorflow.keras.models import Sequential\n",
        "from tensorflow.keras.layers import Conv2D, MaxPool2D, Dense, Flatten, Dropout\n",
        "from tensorflow.keras.utils import to_categorical\n",
        "\n",
        "%load_ext tensorboard\n",
        "\n",
        "import matplotlib.pyplot as plt\n",
        "from skimage import color, exposure\n",
        "\n",
        "from sklearn.metrics import accuracy_score\n",
        "\n",
        "from hyperopt import hp, STATUS_OK, tpe, Trials, fmin"
      ],
      "execution_count": 12,
      "outputs": [
        {
          "output_type": "stream",
          "text": [
            "The tensorboard extension is already loaded. To reload it, use:\n",
            "  %reload_ext tensorboard\n"
          ],
          "name": "stdout"
        }
      ]
    },
    {
      "cell_type": "code",
      "metadata": {
        "id": "hiTXmp6lZ5Ev",
        "colab_type": "code",
        "outputId": "a695a3d1-05e3-417b-d3fe-5627bd649877",
        "colab": {
          "base_uri": "https://localhost:8080/",
          "height": 35
        }
      },
      "source": [
        "cd '/content/drive/My Drive/Colab Notebooks/dw_matrix/matrix_three/dw_matrix_road_sign'"
      ],
      "execution_count": 3,
      "outputs": [
        {
          "output_type": "stream",
          "text": [
            "/content/drive/My Drive/Colab Notebooks/dw_matrix/matrix_three/dw_matrix_road_sign\n"
          ],
          "name": "stdout"
        }
      ]
    },
    {
      "cell_type": "code",
      "metadata": {
        "id": "v20xNIWZaR-p",
        "colab_type": "code",
        "colab": {}
      },
      "source": [
        "train = pd.read_pickle('data/train.p')\n",
        "test = pd.read_pickle('data/test.p')\n",
        "\n",
        "X_train, y_train = train['features'], train['labels']\n",
        "X_test, y_test = test['features'], test['labels']"
      ],
      "execution_count": 0,
      "outputs": []
    },
    {
      "cell_type": "code",
      "metadata": {
        "id": "QCmxMn2vb8S9",
        "colab_type": "code",
        "colab": {}
      },
      "source": [
        "if y_train.ndim == 1: y_train = to_categorical(y_train)\n",
        "if y_test.ndim == 1: y_test = to_categorical(y_test)"
      ],
      "execution_count": 0,
      "outputs": []
    },
    {
      "cell_type": "code",
      "metadata": {
        "id": "fxHf3wksdax0",
        "colab_type": "code",
        "colab": {}
      },
      "source": [
        "input_shape = X_train.shape[1:]\n",
        "num_classes = y_train.shape[1]"
      ],
      "execution_count": 0,
      "outputs": []
    },
    {
      "cell_type": "code",
      "metadata": {
        "id": "eHqx7s11jMvO",
        "colab_type": "code",
        "colab": {}
      },
      "source": [
        "def train_model(model, X_train, y_train, params_fit={}):\n",
        "  model.compile(loss='categorical_crossentropy', optimizer='Adam', metrics=['accuracy'])\n",
        "\n",
        "  logdir = os.path.join(\"logs\", datetime.datetime.now().strftime(\"%Y%m%d-%H%M%S\"))\n",
        "  tensorboard_callback = tf.keras.callbacks.TensorBoard(logdir, histogram_freq=1)\n",
        "\n",
        "  model.fit(\n",
        "      X_train,\n",
        "      y_train,\n",
        "      batch_size=params_fit.get('batch_size', 128),\n",
        "      epochs=params_fit.get('epochs', 5),\n",
        "      verbose=params_fit.get('verbose', 1),\n",
        "      validation_data=params_fit.get('validation_data', (X_train, y_train)),\n",
        "      callbacks= [tensorboard_callback]\n",
        "  )\n",
        "\n",
        "  return model"
      ],
      "execution_count": 0,
      "outputs": []
    },
    {
      "cell_type": "code",
      "metadata": {
        "id": "lQFmbRB1s1dM",
        "colab_type": "code",
        "colab": {}
      },
      "source": [
        "def predict(model_trained, X_test, y_test, scoring=accuracy_score):\n",
        "  y_test_norm = np.argmax(y_test, axis=1)\n",
        "\n",
        "  y_pred_prob = model_trained.predict(X_test)\n",
        "  y_pred = np.argmax(y_pred_prob, axis=1)\n",
        "\n",
        "  return scoring(y_test_norm, y_pred)"
      ],
      "execution_count": 0,
      "outputs": []
    },
    {
      "cell_type": "code",
      "metadata": {
        "id": "uDuJ7QEI2DS5",
        "colab_type": "code",
        "colab": {}
      },
      "source": [
        "def get_cnn_v5(input_shape, num_classes):\n",
        "  return Sequential([\n",
        "    Conv2D(filters=32, kernel_size=(3, 3), activation='relu', input_shape=input_shape),\n",
        "    Conv2D(filters=32, kernel_size=(3, 3), activation='relu', padding='same'),\n",
        "    MaxPool2D(),\n",
        "    Dropout(0.3),\n",
        "\n",
        "    Conv2D(filters=64, kernel_size=(3, 3), activation='relu', padding='same'),\n",
        "    Conv2D(filters=64, kernel_size=(3, 3), activation='relu'),\n",
        "    MaxPool2D(),\n",
        "    Dropout(0.3),\n",
        "\n",
        "    Conv2D(filters=64, kernel_size=(3, 3), activation='relu', padding='same'),\n",
        "    Conv2D(filters=64, kernel_size=(3, 3), activation='relu'),\n",
        "    MaxPool2D(),\n",
        "    Dropout(0.3),\n",
        "    \n",
        "    Flatten(),\n",
        "\n",
        "    Dense(1024, activation='relu'),\n",
        "    Dropout(0.3),\n",
        "\n",
        "    Dense(1024, activation='relu'),\n",
        "    Dropout(0.3),\n",
        "\n",
        "    Dense(num_classes, activation='softmax'), \n",
        "  ])\n"
      ],
      "execution_count": 0,
      "outputs": []
    },
    {
      "cell_type": "code",
      "metadata": {
        "id": "MCun9DaOc2E6",
        "colab_type": "code",
        "colab": {
          "base_uri": "https://localhost:8080/",
          "height": 257
        },
        "outputId": "23692a83-21bf-4266-9033-ea73685dc69c"
      },
      "source": [
        "model = get_cnn_v5(input_shape, num_classes)\n",
        "model_trained = train_model(model, X_train, y_train)\n",
        "\n",
        "predict(model_trained, X_test, y_test)"
      ],
      "execution_count": 26,
      "outputs": [
        {
          "output_type": "stream",
          "text": [
            "Epoch 1/5\n",
            "  2/272 [..............................] - ETA: 6:23 - loss: 16.5952 - accuracy: 0.0547WARNING:tensorflow:Method (on_train_batch_end) is slow compared to the batch update (1.417279). Check your callbacks.\n",
            "272/272 [==============================] - 7s 24ms/step - loss: 2.6864 - accuracy: 0.2635 - val_loss: 1.3188 - val_accuracy: 0.5882\n",
            "Epoch 2/5\n",
            "272/272 [==============================] - 4s 13ms/step - loss: 0.9950 - accuracy: 0.6754 - val_loss: 0.2853 - val_accuracy: 0.9208\n",
            "Epoch 3/5\n",
            "272/272 [==============================] - 4s 13ms/step - loss: 0.4332 - accuracy: 0.8645 - val_loss: 0.1149 - val_accuracy: 0.9658\n",
            "Epoch 4/5\n",
            "272/272 [==============================] - 4s 13ms/step - loss: 0.2659 - accuracy: 0.9178 - val_loss: 0.0597 - val_accuracy: 0.9816\n",
            "Epoch 5/5\n",
            "272/272 [==============================] - 4s 13ms/step - loss: 0.1883 - accuracy: 0.9435 - val_loss: 0.0467 - val_accuracy: 0.9863\n"
          ],
          "name": "stdout"
        },
        {
          "output_type": "execute_result",
          "data": {
            "text/plain": [
              "0.963718820861678"
            ]
          },
          "metadata": {
            "tags": []
          },
          "execution_count": 26
        }
      ]
    },
    {
      "cell_type": "code",
      "metadata": {
        "id": "pDYKxUkqqW1M",
        "colab_type": "code",
        "colab": {
          "base_uri": "https://localhost:8080/",
          "height": 54
        },
        "outputId": "eb799118-f0dd-41d7-9004-5e1657feba72"
      },
      "source": [
        "model_trained.evaluate(X_test, y_test)[1]"
      ],
      "execution_count": 27,
      "outputs": [
        {
          "output_type": "stream",
          "text": [
            "138/138 [==============================] - 0s 3ms/step - loss: 0.1299 - accuracy: 0.9637\n"
          ],
          "name": "stdout"
        },
        {
          "output_type": "execute_result",
          "data": {
            "text/plain": [
              "0.963718831539154"
            ]
          },
          "metadata": {
            "tags": []
          },
          "execution_count": 27
        }
      ]
    },
    {
      "cell_type": "code",
      "metadata": {
        "id": "-j8dw9aOdxuk",
        "colab_type": "code",
        "colab": {}
      },
      "source": [
        "def func_obj(params):\n",
        "  model = get_cnn_v5(input_shape, num_classes)\n",
        "  model.compile(loss='categorical_crossentropy', optimizer='Adam', metrics=['accuracy'])\n",
        "\n",
        "  model.fit(\n",
        "      X_train,\n",
        "      y_train,\n",
        "      batch_size=int(params.get('batch_size', 128)),\n",
        "      epochs=7,\n",
        "      verbose=0,\n",
        "  )\n",
        "\n",
        "  accuracy = model.evaluate(X_test, y_test)[0]\n",
        "  print(params, 'acuracy={}'.format(accuracy))\n",
        "\n",
        "  return {'loss':-accuracy, 'status':STATUS_OK, 'model':model}"
      ],
      "execution_count": 0,
      "outputs": []
    },
    {
      "cell_type": "code",
      "metadata": {
        "id": "E2FwD17Xfpi9",
        "colab_type": "code",
        "colab": {
          "base_uri": "https://localhost:8080/",
          "height": 348
        },
        "outputId": "0fa4039a-0c8c-43d0-dc70-43a6a3505373"
      },
      "source": [
        "space = {\n",
        "    'batch_size': hp.quniform('batch_size', 50, 200, 20)\n",
        "}\n",
        "\n",
        "best = fmin(\n",
        "     func_obj,\n",
        "     space,\n",
        "     tpe.suggest,\n",
        "     1,\n",
        "     Trials()\n",
        ")"
      ],
      "execution_count": 17,
      "outputs": [
        {
          "output_type": "stream",
          "text": [
            "  1/138 [..............................]\n",
            " - ETA: 0s - loss: 0.4976 - accuracy: 0.8750\n",
            "\b\b\b\b\b\b\b\b\b\b\b\b\b\b\b\b\b\b\b\b\b\b\b\b\b\b\b\b\b\b\b\b\b\b\b\b\b\b\b\b\b\b\b\b\b\b\b\b\b\b\b\b\b\b\b\b\b\b\b\b\b\b\b\b\b\b\b\b\b\b\b\b\b\b\b\b\b\b\b\b\b\b\b\b\n",
            " 15/138 [==>...........................]\n",
            " - ETA: 0s - loss: 0.1882 - accuracy: 0.9396\n",
            "\b\b\b\b\b\b\b\b\b\b\b\b\b\b\b\b\b\b\b\b\b\b\b\b\b\b\b\b\b\b\b\b\b\b\b\b\b\b\b\b\b\b\b\b\b\b\b\b\b\b\b\b\b\b\b\b\b\b\b\b\b\b\b\b\b\b\b\b\b\b\b\b\b\b\b\b\b\b\b\b\b\b\b\b\n",
            " 28/138 [=====>........................]\n",
            " - ETA: 0s - loss: 0.3339 - accuracy: 0.9230\n",
            "\b\b\b\b\b\b\b\b\b\b\b\b\b\b\b\b\b\b\b\b\b\b\b\b\b\b\b\b\b\b\b\b\b\b\b\b\b\b\b\b\b\b\b\b\b\b\b\b\b\b\b\b\b\b\b\b\b\b\b\b\b\b\b\b\b\b\b\b\b\b\b\b\b\b\b\b\b\b\b\b\b\b\b\b\n",
            " 41/138 [=======>......................]\n",
            " - ETA: 0s - loss: 0.2378 - accuracy: 0.9459\n",
            "\b\b\b\b\b\b\b\b\b\b\b\b\b\b\b\b\b\b\b\b\b\b\b\b\b\b\b\b\b\b\b\b\b\b\b\b\b\b\b\b\b\b\b\b\b\b\b\b\b\b\b\b\b\b\b\b\b\b\b\b\b\b\b\b\b\b\b\b\b\b\b\b\b\b\b\b\b\b\b\b\b\b\b\b\n",
            " 56/138 [===========>..................]\n",
            " - ETA: 0s - loss: 0.2280 - accuracy: 0.9425\n",
            "\b\b\b\b\b\b\b\b\b\b\b\b\b\b\b\b\b\b\b\b\b\b\b\b\b\b\b\b\b\b\b\b\b\b\b\b\b\b\b\b\b\b\b\b\b\b\b\b\b\b\b\b\b\b\b\b\b\b\b\b\b\b\b\b\b\b\b\b\b\b\b\b\b\b\b\b\b\b\b\b\b\b\b\b\n",
            " 68/138 [=============>................]\n",
            " - ETA: 0s - loss: 0.2032 - accuracy: 0.9490\n",
            "\b\b\b\b\b\b\b\b\b\b\b\b\b\b\b\b\b\b\b\b\b\b\b\b\b\b\b\b\b\b\b\b\b\b\b\b\b\b\b\b\b\b\b\b\b\b\b\b\b\b\b\b\b\b\b\b\b\b\b\b\b\b\b\b\b\b\b\b\b\b\b\b\b\b\b\b\b\b\b\b\b\b\b\b\n",
            " 80/138 [================>.............]\n",
            " - ETA: 0s - loss: 0.1743 - accuracy: 0.9563\n",
            "\b\b\b\b\b\b\b\b\b\b\b\b\b\b\b\b\b\b\b\b\b\b\b\b\b\b\b\b\b\b\b\b\b\b\b\b\b\b\b\b\b\b\b\b\b\b\b\b\b\b\b\b\b\b\b\b\b\b\b\b\b\b\b\b\b\b\b\b\b\b\b\b\b\b\b\b\b\b\b\b\b\b\b\b\n",
            " 92/138 [===================>..........]\n",
            " - ETA: 0s - loss: 0.1539 - accuracy: 0.9616\n",
            "\b\b\b\b\b\b\b\b\b\b\b\b\b\b\b\b\b\b\b\b\b\b\b\b\b\b\b\b\b\b\b\b\b\b\b\b\b\b\b\b\b\b\b\b\b\b\b\b\b\b\b\b\b\b\b\b\b\b\b\b\b\b\b\b\b\b\b\b\b\b\b\b\b\b\b\b\b\b\b\b\b\b\b\b\n",
            "102/138 [=====================>........]\n",
            " - ETA: 0s - loss: 0.1497 - accuracy: 0.9626\n",
            "\b\b\b\b\b\b\b\b\b\b\b\b\b\b\b\b\b\b\b\b\b\b\b\b\b\b\b\b\b\b\b\b\b\b\b\b\b\b\b\b\b\b\b\b\b\b\b\b\b\b\b\b\b\b\b\b\b\b\b\b\b\b\b\b\b\b\b\b\b\b\b\b\b\b\b\b\b\b\b\b\b\b\b\b\n",
            "114/138 [=======================>......]\n",
            " - ETA: 0s - loss: 0.1511 - accuracy: 0.9627\n",
            "\b\b\b\b\b\b\b\b\b\b\b\b\b\b\b\b\b\b\b\b\b\b\b\b\b\b\b\b\b\b\b\b\b\b\b\b\b\b\b\b\b\b\b\b\b\b\b\b\b\b\b\b\b\b\b\b\b\b\b\b\b\b\b\b\b\b\b\b\b\b\b\b\b\b\b\b\b\b\b\b\b\b\b\b\n",
            "127/138 [==========================>...]\n",
            " - ETA: 0s - loss: 0.1402 - accuracy: 0.9656\n",
            "\b\b\b\b\b\b\b\b\b\b\b\b\b\b\b\b\b\b\b\b\b\b\b\b\b\b\b\b\b\b\b\b\b\b\b\b\b\b\b\b\b\b\b\b\b\b\b\b\b\b\b\b\b\b\b\b\b\b\b\b\b\b\b\b\b\b\b\b\b\b\b\b\b\b\b\b\b\b\b\b\b\b\b\b\n",
            "136/138 [============================>.]\n",
            " - ETA: 0s - loss: 0.1323 - accuracy: 0.9676\n",
            "\b\b\b\b\b\b\b\b\b\b\b\b\b\b\b\b\b\b\b\b\b\b\b\b\b\b\b\b\b\b\b\b\b\b\b\b\b\b\b\b\b\b\b\b\b\b\b\b\b\b\b\b\b\b\b\b\b\b\b\b\b\b\b\b\b\b\b\b\b\b\b\b\b\b\b\b\b\b\b\b\b\b\b\b\n",
            "138/138 [==============================]\n",
            " - 1s 4ms/step - loss: 0.1383 - accuracy: 0.9658\n",
            "\n",
            "{'batch_size': 60.0}\n",
            "acuracy=0.1382649689912796\n",
            "100%|██████████| 1/1 [00:19<00:00, 19.45s/it, best loss: -0.1382649689912796]\n"
          ],
          "name": "stdout"
        }
      ]
    },
    {
      "cell_type": "code",
      "metadata": {
        "id": "t-4cnBc1h3JO",
        "colab_type": "code",
        "colab": {}
      },
      "source": [
        "def get_model(params):\n",
        "  return Sequential([\n",
        "    Conv2D(filters=32, kernel_size=(3, 3), activation='relu', input_shape=input_shape),\n",
        "    Conv2D(filters=32, kernel_size=(3, 3), activation='relu', padding='same'),\n",
        "    MaxPool2D(),\n",
        "    Dropout(params['dropout_cnn_block_one']),\n",
        "\n",
        "    Conv2D(filters=64, kernel_size=(3, 3), activation='relu', padding='same'),\n",
        "    Conv2D(filters=64, kernel_size=(3, 3), activation='relu'),\n",
        "    MaxPool2D(),\n",
        "    Dropout(params['dropout_cnn_block_two']),\n",
        "\n",
        "    Conv2D(filters=128, kernel_size=(3, 3), activation='relu', padding='same'),\n",
        "    Conv2D(filters=128, kernel_size=(3, 3), activation='relu'),\n",
        "    MaxPool2D(),\n",
        "    Dropout(params['dropout_cnn_block_three']),\n",
        "    \n",
        "    Flatten(),\n",
        "\n",
        "    Dense(1024, activation='relu'),\n",
        "    Dropout(params['dropout_dense_block_one']),\n",
        "\n",
        "    Dense(1024, activation='relu'),\n",
        "    Dropout(params['dropout_dense_block_two']),\n",
        "\n",
        "    Dense(num_classes, activation='softmax'), \n",
        "  ])\n"
      ],
      "execution_count": 0,
      "outputs": []
    },
    {
      "cell_type": "code",
      "metadata": {
        "id": "EHST-Pzller6",
        "colab_type": "code",
        "colab": {}
      },
      "source": [
        "def func_obj(params):\n",
        "  model = get_model(params)\n",
        "  model.compile(loss='categorical_crossentropy', optimizer='Adam', metrics=['accuracy'])\n",
        "\n",
        "  model.fit(\n",
        "      X_train,\n",
        "      y_train,\n",
        "      batch_size=int(params.get('batch_size', 128)),\n",
        "      epochs=5,\n",
        "      verbose=0,\n",
        "  )\n",
        "\n",
        "  score = model.evaluate(X_test, y_test, verbose=0)\n",
        "  accuracy = score[1]\n",
        "  print(params, 'acuracy={}'.format(accuracy))\n",
        "\n",
        "  return {'loss':-accuracy, 'status':STATUS_OK, 'model':model}"
      ],
      "execution_count": 0,
      "outputs": []
    },
    {
      "cell_type": "code",
      "metadata": {
        "id": "-TcssM9fkRED",
        "colab_type": "code",
        "colab": {
          "base_uri": "https://localhost:8080/",
          "height": 1000
        },
        "outputId": "d5578a5f-b1b9-495b-c91a-4581d87cdc29"
      },
      "source": [
        "space = {\n",
        "    'batch_size': hp.quniform('batch_size', 50, 200, 20),\n",
        "    'dropout_cnn_block_one':hp.uniform('dropout_cnn_block_one', 0, 1),\n",
        "    'dropout_cnn_block_two':hp.uniform('dropout_cnn_block_two', 0, 1),\n",
        "    'dropout_cnn_block_three':hp.uniform('dropout_cnn_block_three', 0, 1),\n",
        "\n",
        "    'dropout_dense_block_one':hp.uniform('dropout_dense_block_one', 0, 1),\n",
        "    'dropout_dense_block_two':hp.uniform('dropout_dense_block_two', 0, 1),\n",
        "}\n",
        "\n",
        "best = fmin(\n",
        "     func_obj,\n",
        "     space,\n",
        "     tpe.suggest,\n",
        "     30,\n",
        "     Trials()\n",
        ")"
      ],
      "execution_count": 37,
      "outputs": [
        {
          "output_type": "stream",
          "text": [
            "{'batch_size': 180.0, 'dropout_cnn_block_one': 0.44913139891056, 'dropout_cnn_block_three': 0.4351934998426168, 'dropout_cnn_block_two': 0.30000203887292465, 'dropout_dense_block_one': 0.5165197652735445, 'dropout_dense_block_two': 0.36351640778484406}\n",
            "acuracy=0.9585034251213074\n",
            "{'batch_size': 140.0, 'dropout_cnn_block_one': 0.162111598164966, 'dropout_cnn_block_three': 0.5665457577929074, 'dropout_cnn_block_two': 0.5473844840042497, 'dropout_dense_block_one': 0.12982698468728693, 'dropout_dense_block_two': 0.693406778555555}\n",
            "acuracy=0.9158729910850525\n",
            "{'batch_size': 180.0, 'dropout_cnn_block_one': 0.2874100569097271, 'dropout_cnn_block_three': 0.6144583173155236, 'dropout_cnn_block_two': 0.8711989184849889, 'dropout_dense_block_one': 0.6308289965029704, 'dropout_dense_block_two': 0.7415386127914458}\n",
            "acuracy=0.2351473867893219\n",
            "{'batch_size': 200.0, 'dropout_cnn_block_one': 0.9422073015614268, 'dropout_cnn_block_three': 0.593600479977167, 'dropout_cnn_block_two': 0.4198098224063992, 'dropout_dense_block_one': 0.5749002504986378, 'dropout_dense_block_two': 0.35565592706686555}\n",
            "acuracy=0.2709750533103943\n",
            "{'batch_size': 160.0, 'dropout_cnn_block_one': 0.22293908608884394, 'dropout_cnn_block_three': 0.5124019045517155, 'dropout_cnn_block_two': 0.9258772160442594, 'dropout_dense_block_one': 0.79168514379724, 'dropout_dense_block_two': 0.09892184978944174}\n",
            "acuracy=0.3036281168460846\n",
            "{'batch_size': 140.0, 'dropout_cnn_block_one': 0.5865001868690907, 'dropout_cnn_block_three': 0.40225796069662756, 'dropout_cnn_block_two': 0.6574164805094168, 'dropout_dense_block_one': 0.14191475857548952, 'dropout_dense_block_two': 0.8531179050916431}\n",
            "acuracy=0.45963719487190247\n",
            "{'batch_size': 160.0, 'dropout_cnn_block_one': 0.5008513260664946, 'dropout_cnn_block_three': 0.02050631623538568, 'dropout_cnn_block_two': 0.8426247693335406, 'dropout_dense_block_one': 0.6661133295206944, 'dropout_dense_block_two': 0.28269774780955315}\n",
            "acuracy=0.5136054158210754\n",
            "{'batch_size': 160.0, 'dropout_cnn_block_one': 0.6799441051779724, 'dropout_cnn_block_three': 0.18217387115254746, 'dropout_cnn_block_two': 0.5915180299666366, 'dropout_dense_block_one': 0.7535480649691866, 'dropout_dense_block_two': 0.26579994262153805}\n",
            "acuracy=0.6748299598693848\n",
            "{'batch_size': 100.0, 'dropout_cnn_block_one': 0.1443603608388071, 'dropout_cnn_block_three': 0.16162638796517736, 'dropout_cnn_block_two': 0.3170626341252214, 'dropout_dense_block_one': 0.938207372004716, 'dropout_dense_block_two': 0.5911388823266718}\n",
            "acuracy=0.6394557952880859\n",
            "{'batch_size': 60.0, 'dropout_cnn_block_one': 0.06371996141167335, 'dropout_cnn_block_three': 0.6050975670500737, 'dropout_cnn_block_two': 0.1552507553971636, 'dropout_dense_block_one': 0.6666198874618102, 'dropout_dense_block_two': 0.9249811514460882}\n",
            "acuracy=0.5825396776199341\n",
            "{'batch_size': 100.0, 'dropout_cnn_block_one': 0.44276082853059484, 'dropout_cnn_block_three': 0.2101899910300652, 'dropout_cnn_block_two': 0.6913973800011709, 'dropout_dense_block_one': 0.2943731968848743, 'dropout_dense_block_two': 0.6361700506346013}\n",
            "acuracy=0.8444444537162781\n",
            "{'batch_size': 80.0, 'dropout_cnn_block_one': 0.9543404394393844, 'dropout_cnn_block_three': 0.5852620845588803, 'dropout_cnn_block_two': 0.004470901553561446, 'dropout_dense_block_one': 0.7343181103837779, 'dropout_dense_block_two': 0.7645134723934133}\n",
            "acuracy=0.07845804840326309\n",
            "{'batch_size': 60.0, 'dropout_cnn_block_one': 0.18195901605551468, 'dropout_cnn_block_three': 0.8115741916359156, 'dropout_cnn_block_two': 0.5348880027613125, 'dropout_dense_block_one': 0.153617527582793, 'dropout_dense_block_two': 0.4353463807502923}\n",
            "acuracy=0.7866213321685791\n",
            "{'batch_size': 60.0, 'dropout_cnn_block_one': 0.49533121620388854, 'dropout_cnn_block_three': 0.4184056251322821, 'dropout_cnn_block_two': 0.7899926557339404, 'dropout_dense_block_one': 0.49927977968285886, 'dropout_dense_block_two': 0.5704264729940914}\n",
            "acuracy=0.46689343452453613\n",
            "{'batch_size': 160.0, 'dropout_cnn_block_one': 0.26104075715904074, 'dropout_cnn_block_three': 0.09397281723442219, 'dropout_cnn_block_two': 0.15567541288843867, 'dropout_dense_block_one': 0.5990875065183846, 'dropout_dense_block_two': 0.8014444732735938}\n",
            "acuracy=0.976643979549408\n",
            "{'batch_size': 80.0, 'dropout_cnn_block_one': 0.5557613051716677, 'dropout_cnn_block_three': 0.7526539993320606, 'dropout_cnn_block_two': 0.7898574847028749, 'dropout_dense_block_one': 0.24636761625842496, 'dropout_dense_block_two': 0.7196412224473417}\n",
            "acuracy=0.2163265347480774\n",
            "{'batch_size': 60.0, 'dropout_cnn_block_one': 0.7888830381943263, 'dropout_cnn_block_three': 0.2748582857097662, 'dropout_cnn_block_two': 0.3894299068349454, 'dropout_dense_block_one': 0.2919916304897807, 'dropout_dense_block_two': 0.10127208727704173}\n",
            "acuracy=0.8349206447601318\n",
            "{'batch_size': 60.0, 'dropout_cnn_block_one': 0.23772165515864485, 'dropout_cnn_block_three': 0.7535480867946013, 'dropout_cnn_block_two': 0.1922496710006577, 'dropout_dense_block_one': 0.480196329314438, 'dropout_dense_block_two': 0.9904657610721301}\n",
            "acuracy=0.054421767592430115\n",
            "{'batch_size': 180.0, 'dropout_cnn_block_one': 0.005776368380122854, 'dropout_cnn_block_three': 0.43222913154116005, 'dropout_cnn_block_two': 0.6834798736250739, 'dropout_dense_block_one': 0.8720677973913079, 'dropout_dense_block_two': 0.8328096678322792}\n",
            "acuracy=0.3018140494823456\n",
            "{'batch_size': 100.0, 'dropout_cnn_block_one': 0.04870598967149975, 'dropout_cnn_block_three': 0.42541798333145475, 'dropout_cnn_block_two': 0.2014375287747494, 'dropout_dense_block_one': 0.824385225922318, 'dropout_dense_block_two': 0.1122452033458109}\n",
            "acuracy=0.9712018370628357\n",
            "{'batch_size': 120.0, 'dropout_cnn_block_one': 0.35257706336071004, 'dropout_cnn_block_three': 0.28890801293345236, 'dropout_cnn_block_two': 0.020460721941950477, 'dropout_dense_block_one': 0.9727995231463423, 'dropout_dense_block_two': 0.03291172005220326}\n",
            "acuracy=0.44285714626312256\n",
            "{'batch_size': 120.0, 'dropout_cnn_block_one': 0.014157623889189397, 'dropout_cnn_block_three': 0.9750280497296286, 'dropout_cnn_block_two': 0.13698398240469217, 'dropout_dense_block_one': 0.4400583567056439, 'dropout_dense_block_two': 0.2059933888103887}\n",
            "acuracy=0.054421767592430115\n",
            "{'batch_size': 100.0, 'dropout_cnn_block_one': 0.3515853777785757, 'dropout_cnn_block_three': 0.0021444273722406315, 'dropout_cnn_block_two': 0.07206267092833361, 'dropout_dense_block_one': 0.8732677365981889, 'dropout_dense_block_two': 0.9687084942705646}\n",
            "acuracy=0.27641722559928894\n",
            "{'batch_size': 140.0, 'dropout_cnn_block_one': 0.11521776042205278, 'dropout_cnn_block_three': 0.06684610612245839, 'dropout_cnn_block_two': 0.2457585539455318, 'dropout_dense_block_one': 0.4071676624121715, 'dropout_dense_block_two': 0.48304353701770675}\n",
            "acuracy=0.960090696811676\n",
            "{'batch_size': 200.0, 'dropout_cnn_block_one': 0.3548764075510734, 'dropout_cnn_block_three': 0.09872128500556704, 'dropout_cnn_block_two': 0.4078530010949585, 'dropout_dense_block_one': 0.8287580323215417, 'dropout_dense_block_two': 0.010563873952841599}\n",
            "acuracy=0.8922902345657349\n",
            "{'batch_size': 80.0, 'dropout_cnn_block_one': 0.06095229998348134, 'dropout_cnn_block_three': 0.29854105043742274, 'dropout_cnn_block_two': 0.0759722054187124, 'dropout_dense_block_one': 0.5854648449712863, 'dropout_dense_block_two': 0.15551197491982421}\n",
            "acuracy=0.9752834439277649\n",
            "{'batch_size': 80.0, 'dropout_cnn_block_one': 0.10080861479896996, 'dropout_cnn_block_three': 0.319798787307064, 'dropout_cnn_block_two': 0.1013856168845161, 'dropout_dense_block_one': 0.387672264889187, 'dropout_dense_block_two': 0.8807209357091275}\n",
            "acuracy=0.9646258354187012\n",
            "{'batch_size': 120.0, 'dropout_cnn_block_one': 0.2899350235923918, 'dropout_cnn_block_three': 0.11169409115889037, 'dropout_cnn_block_two': 0.03798341965390473, 'dropout_dense_block_one': 0.5713891955878443, 'dropout_dense_block_two': 0.5183496064292115}\n",
            "acuracy=0.9696145057678223\n",
            "{'batch_size': 160.0, 'dropout_cnn_block_one': 0.39939242648621653, 'dropout_cnn_block_three': 0.3523255654991222, 'dropout_cnn_block_two': 0.3234303524349195, 'dropout_dense_block_one': 0.6004044240235736, 'dropout_dense_block_two': 0.3924348782578854}\n",
            "acuracy=0.956462562084198\n",
            "{'batch_size': 180.0, 'dropout_cnn_block_one': 0.26800906909503946, 'dropout_cnn_block_three': 0.23490008225244155, 'dropout_cnn_block_two': 0.2843531621926741, 'dropout_dense_block_one': 0.3613461898246803, 'dropout_dense_block_two': 0.19602362934333703}\n",
            "acuracy=0.9750567078590393\n",
            "100%|██████████| 30/30 [05:54<00:00, 11.82s/it, best loss: -0.976643979549408]\n"
          ],
          "name": "stdout"
        }
      ]
    },
    {
      "cell_type": "code",
      "metadata": {
        "id": "oVAXWn-coNuu",
        "colab_type": "code",
        "colab": {}
      },
      "source": [
        "def func_obj(params):\n",
        "  model = get_model(params)\n",
        "  model.compile(loss='categorical_crossentropy', optimizer='Adam', metrics=['accuracy'])\n",
        "\n",
        "  model.fit(\n",
        "      X_train,\n",
        "      y_train,\n",
        "      batch_size=int(params.get('batch_size', 128)),\n",
        "      epochs=5,\n",
        "      verbose=0,\n",
        "  )\n",
        "\n",
        "  score = model.evaluate(X_test, y_test, verbose=0)\n",
        "  accuracy = score[1]\n",
        "  print(params, 'acuracy={}'.format(accuracy))\n",
        "\n",
        "  return {'loss':-accuracy, 'status':STATUS_OK, 'model':model}"
      ],
      "execution_count": 0,
      "outputs": []
    },
    {
      "cell_type": "code",
      "metadata": {
        "id": "tjPGJzLcoO32",
        "colab_type": "code",
        "colab": {
          "base_uri": "https://localhost:8080/",
          "height": 1000
        },
        "outputId": "343354b5-9221-404d-ec27-f7f27adee0e3"
      },
      "source": [
        "space = {\n",
        "    'batch_size': hp.quniform('batch_size', 100, 200, 10),\n",
        "    'dropout_cnn_block_one':hp.uniform('dropout_cnn_block_one', 0.3, 0.5),\n",
        "    'dropout_cnn_block_two':hp.uniform('dropout_cnn_block_two', 0.3, 0.5),\n",
        "    'dropout_cnn_block_three':hp.uniform('dropout_cnn_block_three', 0.3, 0.5),\n",
        "\n",
        "    'dropout_dense_block_one':hp.uniform('dropout_dense_block_one', 0.3, 0.7),\n",
        "    'dropout_dense_block_two':hp.uniform('dropout_dense_block_two', 0.3, 0.7),\n",
        "}\n",
        "\n",
        "best = fmin(\n",
        "     func_obj,\n",
        "     space,\n",
        "     tpe.suggest,\n",
        "     30,\n",
        "     Trials()\n",
        ")"
      ],
      "execution_count": 34,
      "outputs": [
        {
          "output_type": "stream",
          "text": [
            "{'batch_size': 190.0, 'dropout_cnn_block_one': 0.44216643521107346, 'dropout_cnn_block_three': 0.3199064559841065, 'dropout_cnn_block_two': 0.4521104933344844, 'dropout_dense_block_one': 0.6095002044406883, 'dropout_dense_block_two': 0.6843485808376654}\n",
            "acuracy=0.8281179070472717\n",
            "{'batch_size': 110.0, 'dropout_cnn_block_one': 0.42454109647939764, 'dropout_cnn_block_three': 0.39858940734635756, 'dropout_cnn_block_two': 0.4556919279827045, 'dropout_dense_block_one': 0.5595311568794712, 'dropout_dense_block_two': 0.5856764979669327}\n",
            "acuracy=0.922448992729187\n",
            "{'batch_size': 130.0, 'dropout_cnn_block_one': 0.39529883386448084, 'dropout_cnn_block_three': 0.3955911751416832, 'dropout_cnn_block_two': 0.38438703519386297, 'dropout_dense_block_one': 0.5455977583219191, 'dropout_dense_block_two': 0.39158395293066195}\n",
            "acuracy=0.9376417398452759\n",
            "{'batch_size': 190.0, 'dropout_cnn_block_one': 0.32926246209710636, 'dropout_cnn_block_three': 0.3476005647746331, 'dropout_cnn_block_two': 0.4464228335498607, 'dropout_dense_block_one': 0.3351456247913563, 'dropout_dense_block_two': 0.6171519406356138}\n",
            "acuracy=0.9578231573104858\n",
            "{'batch_size': 140.0, 'dropout_cnn_block_one': 0.4118508582332463, 'dropout_cnn_block_three': 0.39378148865594764, 'dropout_cnn_block_two': 0.45144827907637725, 'dropout_dense_block_one': 0.3768275319836152, 'dropout_dense_block_two': 0.39178330020514024}\n",
            "acuracy=0.9675737023353577\n",
            "{'batch_size': 160.0, 'dropout_cnn_block_one': 0.47304508196214307, 'dropout_cnn_block_three': 0.48694311556451525, 'dropout_cnn_block_two': 0.4469116780357658, 'dropout_dense_block_one': 0.5104448731952509, 'dropout_dense_block_two': 0.5283510432751846}\n",
            "acuracy=0.6907029747962952\n",
            "{'batch_size': 130.0, 'dropout_cnn_block_one': 0.4899525106981435, 'dropout_cnn_block_three': 0.35282115378930085, 'dropout_cnn_block_two': 0.4641072678456841, 'dropout_dense_block_one': 0.4201678985706474, 'dropout_dense_block_two': 0.45941061750755785}\n",
            "acuracy=0.9437641501426697\n",
            "{'batch_size': 140.0, 'dropout_cnn_block_one': 0.3822475462283894, 'dropout_cnn_block_three': 0.49850299694395056, 'dropout_cnn_block_two': 0.4386780581182756, 'dropout_dense_block_one': 0.3863236844254965, 'dropout_dense_block_two': 0.3721843736871935}\n",
            "acuracy=0.9263038635253906\n",
            "{'batch_size': 200.0, 'dropout_cnn_block_one': 0.4592462942436551, 'dropout_cnn_block_three': 0.40067651461924964, 'dropout_cnn_block_two': 0.3279468159412229, 'dropout_dense_block_one': 0.5649663703537045, 'dropout_dense_block_two': 0.48846716857838823}\n",
            "acuracy=0.9090703129768372\n",
            "{'batch_size': 110.0, 'dropout_cnn_block_one': 0.43305036663066604, 'dropout_cnn_block_three': 0.31171092492550345, 'dropout_cnn_block_two': 0.4582192816568317, 'dropout_dense_block_one': 0.47744249177623244, 'dropout_dense_block_two': 0.6154665915500617}\n",
            "acuracy=0.9308390021324158\n",
            "{'batch_size': 140.0, 'dropout_cnn_block_one': 0.45654254125874744, 'dropout_cnn_block_three': 0.3326376689750861, 'dropout_cnn_block_two': 0.3411678289167445, 'dropout_dense_block_one': 0.5827551002304261, 'dropout_dense_block_two': 0.5398941086345809}\n",
            "acuracy=0.904535174369812\n",
            "{'batch_size': 170.0, 'dropout_cnn_block_one': 0.35181513049591917, 'dropout_cnn_block_three': 0.37507159140969837, 'dropout_cnn_block_two': 0.45673495235132466, 'dropout_dense_block_one': 0.6738575611502657, 'dropout_dense_block_two': 0.5011454459662922}\n",
            "acuracy=0.9378684759140015\n",
            "{'batch_size': 190.0, 'dropout_cnn_block_one': 0.39278049616011235, 'dropout_cnn_block_three': 0.48771721297429976, 'dropout_cnn_block_two': 0.4184085844254221, 'dropout_dense_block_one': 0.53193737180551, 'dropout_dense_block_two': 0.6814608130734124}\n",
            "acuracy=0.8396825194358826\n",
            "{'batch_size': 200.0, 'dropout_cnn_block_one': 0.3953401335449869, 'dropout_cnn_block_three': 0.3661558121574532, 'dropout_cnn_block_two': 0.4592822807607956, 'dropout_dense_block_one': 0.6661288585144526, 'dropout_dense_block_two': 0.391338031563929}\n",
            "acuracy=0.8208616971969604\n",
            "{'batch_size': 160.0, 'dropout_cnn_block_one': 0.3466691133699802, 'dropout_cnn_block_three': 0.480179782220401, 'dropout_cnn_block_two': 0.48608757654504886, 'dropout_dense_block_one': 0.47194135145114213, 'dropout_dense_block_two': 0.4036845935816642}\n",
            "acuracy=0.8648526072502136\n",
            "{'batch_size': 130.0, 'dropout_cnn_block_one': 0.4190297970703428, 'dropout_cnn_block_three': 0.33767739569454125, 'dropout_cnn_block_two': 0.33157788096174173, 'dropout_dense_block_one': 0.40403824897774154, 'dropout_dense_block_two': 0.5294056746169874}\n",
            "acuracy=0.9609977602958679\n",
            "{'batch_size': 180.0, 'dropout_cnn_block_one': 0.48026638867634097, 'dropout_cnn_block_three': 0.3084812333271253, 'dropout_cnn_block_two': 0.4212639555682092, 'dropout_dense_block_one': 0.48957718740639977, 'dropout_dense_block_two': 0.5346241917412068}\n",
            "acuracy=0.9303854703903198\n",
            "{'batch_size': 170.0, 'dropout_cnn_block_one': 0.4364887265455384, 'dropout_cnn_block_three': 0.4913955694247678, 'dropout_cnn_block_two': 0.33600301900092705, 'dropout_dense_block_one': 0.4434627403730613, 'dropout_dense_block_two': 0.39956388795031583}\n",
            "acuracy=0.9306122660636902\n",
            "{'batch_size': 160.0, 'dropout_cnn_block_one': 0.33600567444604534, 'dropout_cnn_block_three': 0.4860101026855938, 'dropout_cnn_block_two': 0.361799410670294, 'dropout_dense_block_one': 0.333925370167975, 'dropout_dense_block_two': 0.3759185505103632}\n",
            "acuracy=0.9217687249183655\n",
            "{'batch_size': 160.0, 'dropout_cnn_block_one': 0.4392881607372333, 'dropout_cnn_block_three': 0.39045122919796016, 'dropout_cnn_block_two': 0.32197273054231534, 'dropout_dense_block_one': 0.6535464044273401, 'dropout_dense_block_two': 0.5971969962168835}\n",
            "acuracy=0.858730137348175\n",
            "{'batch_size': 120.0, 'dropout_cnn_block_one': 0.30406749740819705, 'dropout_cnn_block_three': 0.4314496190205048, 'dropout_cnn_block_two': 0.30177300671474777, 'dropout_dense_block_one': 0.3779548891917306, 'dropout_dense_block_two': 0.3028812787134088}\n",
            "acuracy=0.9546485543251038\n",
            "{'batch_size': 140.0, 'dropout_cnn_block_one': 0.41473995242103945, 'dropout_cnn_block_three': 0.4371832361622276, 'dropout_cnn_block_two': 0.49543243004320436, 'dropout_dense_block_one': 0.37636949684221777, 'dropout_dense_block_two': 0.3303377031538842}\n",
            "acuracy=0.9503401517868042\n",
            "{'batch_size': 100.0, 'dropout_cnn_block_one': 0.3695823429263654, 'dropout_cnn_block_three': 0.4414927317266973, 'dropout_cnn_block_two': 0.38916767193079677, 'dropout_dense_block_one': 0.30966393266707776, 'dropout_dense_block_two': 0.4375318251975001}\n",
            "acuracy=0.9702947735786438\n",
            "{'batch_size': 120.0, 'dropout_cnn_block_one': 0.3681655376102686, 'dropout_cnn_block_three': 0.4573154800232564, 'dropout_cnn_block_two': 0.38538353876197673, 'dropout_dense_block_one': 0.3089993758325703, 'dropout_dense_block_two': 0.43840891566658485}\n",
            "acuracy=0.9575963616371155\n",
            "{'batch_size': 100.0, 'dropout_cnn_block_one': 0.3037894679063292, 'dropout_cnn_block_three': 0.4262218859824153, 'dropout_cnn_block_two': 0.40662135941024885, 'dropout_dense_block_one': 0.3022362576587457, 'dropout_dense_block_two': 0.32934411664965785}\n",
            "acuracy=0.9650793671607971\n",
            "{'batch_size': 100.0, 'dropout_cnn_block_one': 0.37102701431380225, 'dropout_cnn_block_three': 0.45604438873470166, 'dropout_cnn_block_two': 0.47965635810000923, 'dropout_dense_block_one': 0.3437976319258451, 'dropout_dense_block_two': 0.43358892765381757}\n",
            "acuracy=0.945805013179779\n",
            "{'batch_size': 110.0, 'dropout_cnn_block_one': 0.4096496277846062, 'dropout_cnn_block_three': 0.4142933845252424, 'dropout_cnn_block_two': 0.36690028569966116, 'dropout_dense_block_one': 0.43931630139641425, 'dropout_dense_block_two': 0.46411512420429646}\n",
            "acuracy=0.9244897961616516\n",
            "{'batch_size': 150.0, 'dropout_cnn_block_one': 0.362849131011981, 'dropout_cnn_block_three': 0.45283552568742425, 'dropout_cnn_block_two': 0.428284085861797, 'dropout_dense_block_one': 0.301607586560316, 'dropout_dense_block_two': 0.34494695862644775}\n",
            "acuracy=0.9417233467102051\n",
            "{'batch_size': 120.0, 'dropout_cnn_block_one': 0.3293228731525768, 'dropout_cnn_block_three': 0.41555440709118696, 'dropout_cnn_block_two': 0.39512672565797186, 'dropout_dense_block_one': 0.6282726064032531, 'dropout_dense_block_two': 0.42910060103119185}\n",
            "acuracy=0.9575963616371155\n",
            "{'batch_size': 150.0, 'dropout_cnn_block_one': 0.3823578153534202, 'dropout_cnn_block_three': 0.4713095640721966, 'dropout_cnn_block_two': 0.36464293839306167, 'dropout_dense_block_one': 0.35249143218354356, 'dropout_dense_block_two': 0.3008299369719126}\n",
            "acuracy=0.9557822942733765\n",
            "100%|██████████| 30/30 [05:26<00:00, 10.88s/it, best loss: -0.9702947735786438]\n"
          ],
          "name": "stdout"
        }
      ]
    }
  ]
}